{
 "cells": [
  {
   "cell_type": "code",
   "execution_count": 10,
   "id": "a30c60e4",
   "metadata": {},
   "outputs": [],
   "source": [
    "from abc import ABC, abstractmethod\n",
    "import hashlib\n",
    "from ecdsa import SigningKey, VerifyingKey, SECP256k1, BadSignatureError\n",
    "from ecdsa.util import sigencode_string_canonize\n",
    "from bech32 import bech32_encode, convertbits\n",
    "import base64\n",
    "from eth_keys import keys as eth_keys\n",
    "from dataclasses import dataclass\n",
    "import json"
   ]
  },
  {
   "cell_type": "markdown",
   "id": "81fa9a8c",
   "metadata": {},
   "source": [
    "### Verifier Interface"
   ]
  },
  {
   "cell_type": "code",
   "execution_count": 11,
   "id": "a8b8d892",
   "metadata": {},
   "outputs": [],
   "source": [
    "class SignatureVerifier(ABC):\n",
    "    \"\"\"\n",
    "    Abstract class to define signature verification and address construction\n",
    "    from different chains types\n",
    "    \"\"\"\n",
    "    @abstractmethod\n",
    "    def verify_signature(self, public_key: str, message: str, signature: str):\n",
    "        pass\n",
    "\n",
    "    @abstractmethod\n",
    "    def generate_address(self, public_key: str):\n",
    "        pass"
   ]
  },
  {
   "cell_type": "markdown",
   "id": "219a354a",
   "metadata": {},
   "source": [
    "### Signers"
   ]
  },
  {
   "cell_type": "code",
   "execution_count": 12,
   "id": "3fa5ec88",
   "metadata": {},
   "outputs": [],
   "source": [
    "def sign_cosmos(private_key: str, message: str) -> str:\n",
    "    \"\"\"\n",
    "    Signs a message from a cosmos account\n",
    "    \"\"\"\n",
    "    pk = SigningKey.from_string(bytes.fromhex(private_key), curve=SECP256k1, hashfunc=hashlib.sha256)\n",
    "    return pk.sign(message.encode()).hex()\n",
    "\n",
    "def sign_ethereum(private_key: str, message: str) -> str:\n",
    "    \"\"\"\n",
    "    Signs a message from an etherum account\n",
    "    \"\"\"\n",
    "    pk = eth_keys.PrivateKey(bytes.fromhex(private_key))\n",
    "    return str(pk.sign_msg(message.encode()))"
   ]
  },
  {
   "cell_type": "markdown",
   "id": "2623974d",
   "metadata": {},
   "source": [
    "### Verifiers"
   ]
  },
  {
   "cell_type": "code",
   "execution_count": 13,
   "id": "1bbcf002",
   "metadata": {},
   "outputs": [],
   "source": [
    "@dataclass\n",
    "class CosmosVerifier(SignatureVerifier):\n",
    "    \"\"\"\n",
    "    Verifier for cosmos addresses (coin type 118)\n",
    "    \"\"\"\n",
    "    bech_prefix: str\n",
    "\n",
    "    def verify_signature(self, pubkey_b64: str, message_amino: str, sig_b64: str):\n",
    "        \"\"\"\n",
    "        Verifies a signature from a cosmos account\n",
    "        \"\"\"\n",
    "        pubkey_bz = base64.b64decode(pubkey_b64)\n",
    "        verifying_key = VerifyingKey.from_string(pubkey_bz, curve=SECP256k1, hashfunc=hashlib.sha256)\n",
    "        sig_bz = base64.b64decode(sig_b64)\n",
    "        try:\n",
    "            return verifying_key.verify(sig_bz, message_amino.encode())\n",
    "        except BadSignatureError:\n",
    "            return False\n",
    "\n",
    "    def generate_address(self, pubkey_b64: str):\n",
    "        \"\"\"\n",
    "        Generates a cosmos address from a public key\n",
    "        \"\"\"\n",
    "        pubkey_bz = base64.b64decode(pubkey_b64)\n",
    "        s = hashlib.new(\"sha256\", pubkey_bz).digest()\n",
    "        r = hashlib.new(\"ripemd160\", s).digest()\n",
    "        r = convertbits(r, 8, 5)\n",
    "        if not r:\n",
    "            raise ValueError(\"unable to generate address\")\n",
    "        return bech32_encode(self.bech_prefix, r)\n",
    "    \n",
    "class EthereumVerifier(SignatureVerifier):\n",
    "    \"\"\"\n",
    "    Verifier for ethereum addresses (coin type 60)\n",
    "    \"\"\"\n",
    "\n",
    "    def verify_signature(self, public_key: str, message: str, signature: str):\n",
    "        \"\"\"\n",
    "        Verifies a signature from an ethereum account\n",
    "        \"\"\"\n",
    "        verifying_key = eth_keys.PublicKey(bytes.fromhex(public_key))\n",
    "        signature_obj = eth_keys.Signature(bytes.fromhex(signature))\n",
    "        try:\n",
    "            verified = verifying_key.verify_msg(message.encode(), signature_obj)\n",
    "            return verified\n",
    "        except Exception:\n",
    "            return False\n",
    "\n",
    "    def generate_address(self, public_key: str):\n",
    "        \"\"\"\n",
    "        Generates an ethereum address from a public key\n",
    "        \"\"\"\n",
    "        return eth_keys.PublicKey(bytes.fromhex(public_key)).to_address()\n"
   ]
  },
  {
   "cell_type": "markdown",
   "id": "f959865b",
   "metadata": {},
   "source": [
    "### Example"
   ]
  },
  {
   "cell_type": "code",
   "execution_count": 23,
   "id": "d9222409",
   "metadata": {},
   "outputs": [],
   "source": [
    "import json\n",
    "\n",
    "# The idea is that the user will sign their stride_address on the frontend, and call a backend function `link(pubkey, prefix, signature, stride_address)`\n",
    "# On the backend, we will rebuild `signed_doc` using only those 4 params, and try to verify `signature(recreated_signed_doc)`` against `pubkey`.\n",
    "# Once that's successful, we will derive the signer's address using `prefix` and `pubkey`.\n",
    "# That will give us all the confirmation we need to link the 2 addresses.\n",
    "\n",
    "signed_doc = {\n",
    "    \"value\": {\n",
    "        \"signed\": {\n",
    "            \"chain_id\": \"\",\n",
    "            \"account_number\": \"0\",\n",
    "            \"sequence\": \"0\",\n",
    "            \"fee\": {\"gas\": \"0\", \"amount\": []},\n",
    "            \"msgs\": [\n",
    "                {\n",
    "                    \"type\": \"sign/MsgSignData\",\n",
    "                    \"value\": {\n",
    "                        \"signer\": \"cosmos1uspq8jesuu0f6uh6dez2lktnhuxrplzasuywag\",\n",
    "                        \"data\": \"c3RyaWRlMXVzcHE4amVzdXUwZjZ1aDZkZXoybGt0bmh1eHJwbHphbmh5amZ5\",\n",
    "                    },\n",
    "                }\n",
    "            ],\n",
    "            \"memo\": \"\",\n",
    "        },\n",
    "        \"signature\": {\n",
    "            \"pub_key\": {\"type\": \"tendermint/PubKeySecp256k1\", \"value\": \"A44GECf+ZykwzE9LxNBOTH+0pv3jRbl2Oz86vj7WeLUm\"},\n",
    "            \"signature\": \"bT4/+FjxW435j9eNIJG+mJNF01/e0R3guqXKqHm+emQOEggBj7ygRO2c/iHbXuNilekG4HAlblfL+pATKdgHjQ==\",\n",
    "        },\n",
    "    }\n",
    "}\n",
    "\n",
    "signer = \"cosmos1uspq8jesuu0f6uh6dez2lktnhuxrplzasuywag\"\n",
    "stride_address = \"stride1uspq8jesuu0f6uh6dez2lktnhuxrplzanhyjfy\"\n",
    "\n",
    "message = signed_doc[\"value\"][\"signed\"]\n",
    "message_amino = json.dumps(message, separators=(\",\", \":\"), sort_keys=True)\n",
    "\n",
    "pubkey_b64 = signed_doc[\"value\"][\"signature\"][\"pub_key\"][\"value\"]\n",
    "sig_b64 = signed_doc[\"value\"][\"signature\"][\"signature\"]"
   ]
  },
  {
   "cell_type": "code",
   "execution_count": 24,
   "id": "390a4512",
   "metadata": {},
   "outputs": [
    {
     "name": "stdout",
     "output_type": "stream",
     "text": [
      "Signature: bT4/+FjxW435j9eNIJG+mJNF01/e0R3guqXKqHm+emQOEggBj7ygRO2c/iHbXuNilekG4HAlblfL+pATKdgHjQ==\n",
      "Verification: True\n",
      "Address Generated: cosmos1uspq8jesuu0f6uh6dez2lktnhuxrplzasuywag\n",
      "Address Matched: True\n"
     ]
    }
   ],
   "source": [
    "cosmos_client = CosmosVerifier(bech_prefix=\"cosmos\")\n",
    "\n",
    "verification = cosmos_client.verify_signature(pubkey_b64, message_amino, sig_b64)\n",
    "address_from_pubkey = cosmos_client.generate_address(pubkey_b64)\n",
    "\n",
    "print(\"Signature:\", sig_b64)\n",
    "print(\"Verification:\", verification)\n",
    "print(\"Address Generated:\", address_from_pubkey)\n",
    "print(\"Address Matched:\", address_from_pubkey == signer)"
   ]
  },
  {
   "cell_type": "code",
   "execution_count": 17,
   "id": "38481d98",
   "metadata": {},
   "outputs": [
    {
     "name": "stdout",
     "output_type": "stream",
     "text": [
      "Signature: bT4/+FjxW435j9eNIJG+mJNF01/e0R3guqXKqHm+emQOEggBj7ygRO2c/iHbXuNilekG4HAlblfL+pATKdgHjQ==\n",
      "Verification: True\n",
      "Address Generated: cosmos1uspq8jesuu0f6uh6dez2lktnhuxrplzasuywag\n",
      "Address Matched: False\n"
     ]
    }
   ],
   "source": [
    "cosmos_client = CosmosVerifier(bech_prefix=\"cosmos\")\n",
    "\n",
    "verification = cosmos_client.verify_signature(pubkey_b64, message_amino, sig_b64)\n",
    "address_from_pubkey = cosmos_client.generate_address(pubkey_b64)\n",
    "\n",
    "print(\"Signature:\", sig_b64)\n",
    "print(\"Verification:\", verification)\n",
    "print(\"Address Generated:\", address_from_pubkey)\n",
    "print(\"Address Matched:\", address_from_pubkey == cosmos_address)"
   ]
  },
  {
   "cell_type": "code",
   "execution_count": 18,
   "id": "dc5a016c",
   "metadata": {},
   "outputs": [
    {
     "name": "stdout",
     "output_type": "stream",
     "text": [
      "Signature: bT4/+FjxW435j9eNIJG+mJNF01/e0R3guqXKqHm+emQOEggBj7ygRO2c/iHbXuNilekG4HAlblfL+pATKdgHjQ==\n",
      "Verification: True\n",
      "Address Generated: cosmos1uspq8jesuu0f6uh6dez2lktnhuxrplzasuywag\n",
      "Address Matched: False\n"
     ]
    }
   ],
   "source": [
    "cosmos_client = CosmosVerifier(bech_prefix=\"cosmos\")\n",
    "\n",
    "verification = cosmos_client.verify_signature(pubkey_b64, message_amino, sig_b64)\n",
    "address_from_pubkey = cosmos_client.generate_address(pubkey_b64)\n",
    "\n",
    "print(\"Signature:\", sig_b64)\n",
    "print(\"Verification:\", verification)\n",
    "print(\"Address Generated:\", address_from_pubkey)\n",
    "print(\"Address Matched:\", address_from_pubkey == cosmos_address)"
   ]
  },
  {
   "cell_type": "code",
   "execution_count": 19,
   "id": "5445113b",
   "metadata": {},
   "outputs": [
    {
     "name": "stdout",
     "output_type": "stream",
     "text": [
      "Signature: bT4/+FjxW435j9eNIJG+mJNF01/e0R3guqXKqHm+emQOEggBj7ygRO2c/iHbXuNilekG4HAlblfL+pATKdgHjQ==\n",
      "Verification: True\n",
      "Address Generated: cosmos1uspq8jesuu0f6uh6dez2lktnhuxrplzasuywag\n",
      "Address Matched: False\n"
     ]
    }
   ],
   "source": [
    "cosmos_client = CosmosVerifier(bech_prefix=\"cosmos\")\n",
    "\n",
    "verification = cosmos_client.verify_signature(pubkey_b64, message_amino, sig_b64)\n",
    "address_from_pubkey = cosmos_client.generate_address(pubkey_b64)\n",
    "\n",
    "print(\"Signature:\", sig_b64)\n",
    "print(\"Verification:\", verification)\n",
    "print(\"Address Generated:\", address_from_pubkey)\n",
    "print(\"Address Matched:\", address_from_pubkey == cosmos_address)"
   ]
  },
  {
   "cell_type": "code",
   "execution_count": 20,
   "id": "52813c3d",
   "metadata": {},
   "outputs": [
    {
     "name": "stdout",
     "output_type": "stream",
     "text": [
      "Signature: bT4/+FjxW435j9eNIJG+mJNF01/e0R3guqXKqHm+emQOEggBj7ygRO2c/iHbXuNilekG4HAlblfL+pATKdgHjQ==\n",
      "Verification: True\n",
      "Address Generated: cosmos1uspq8jesuu0f6uh6dez2lktnhuxrplzasuywag\n",
      "Address Matched: False\n"
     ]
    }
   ],
   "source": [
    "cosmos_client = CosmosVerifier(bech_prefix=\"cosmos\")\n",
    "\n",
    "verification = cosmos_client.verify_signature(pubkey_b64, message_amino, sig_b64)\n",
    "address_from_pubkey = cosmos_client.generate_address(pubkey_b64)\n",
    "\n",
    "print(\"Signature:\", sig_b64)\n",
    "print(\"Verification:\", verification)\n",
    "print(\"Address Generated:\", address_from_pubkey)\n",
    "print(\"Address Matched:\", address_from_pubkey == cosmos_address)"
   ]
  },
  {
   "cell_type": "code",
   "execution_count": 21,
   "id": "168638a6",
   "metadata": {},
   "outputs": [
    {
     "ename": "ImportError",
     "evalue": "None of these hashing backends are installed: ['pycryptodome', 'pysha3'].\nInstall with `python -m pip install \"eth-hash[pycryptodome]\"`.",
     "output_type": "error",
     "traceback": [
      "\u001b[0;31m---------------------------------------------------------------------------\u001b[0m",
      "\u001b[0;31mImportError\u001b[0m                               Traceback (most recent call last)",
      "Cell \u001b[0;32mIn[21], line 4\u001b[0m\n\u001b[1;32m      1\u001b[0m ethereum_client \u001b[38;5;241m=\u001b[39m EthereumVerifier()\n\u001b[1;32m      3\u001b[0m signature_from_metamask \u001b[38;5;241m=\u001b[39m \u001b[38;5;124m\"\u001b[39m\u001b[38;5;124m90ec75b7ec3fa034423c07d507242d1a719a4c97ea067ce8a093f001811c18396855d888ae3108eb0e23d3f186674463965c4a01d352db5492ecdfa9233980da1c\u001b[39m\u001b[38;5;124m\"\u001b[39m\n\u001b[0;32m----> 4\u001b[0m sig_b64 \u001b[38;5;241m=\u001b[39m \u001b[43msign_ethereum\u001b[49m\u001b[43m(\u001b[49m\u001b[43methereum_private_key\u001b[49m\u001b[43m,\u001b[49m\u001b[43m \u001b[49m\u001b[43mmessage_amino\u001b[49m\u001b[43m)\u001b[49m\u001b[38;5;241m.\u001b[39mreplace(\u001b[38;5;124m\"\u001b[39m\u001b[38;5;124m0x\u001b[39m\u001b[38;5;124m\"\u001b[39m, \u001b[38;5;124m\"\u001b[39m\u001b[38;5;124m\"\u001b[39m)\n\u001b[1;32m      6\u001b[0m verification \u001b[38;5;241m=\u001b[39m ethereum_client\u001b[38;5;241m.\u001b[39mverify_signature(ethereum_public_key, message_amino, sig_b64)\n\u001b[1;32m      7\u001b[0m address \u001b[38;5;241m=\u001b[39m ethereum_client\u001b[38;5;241m.\u001b[39mgenerate_address(ethereum_public_key)\n",
      "Cell \u001b[0;32mIn[12], line 13\u001b[0m, in \u001b[0;36msign_ethereum\u001b[0;34m(private_key, message)\u001b[0m\n\u001b[1;32m      9\u001b[0m \u001b[38;5;250m\u001b[39m\u001b[38;5;124;03m\"\"\"\u001b[39;00m\n\u001b[1;32m     10\u001b[0m \u001b[38;5;124;03mSigns a message from an etherum account\u001b[39;00m\n\u001b[1;32m     11\u001b[0m \u001b[38;5;124;03m\"\"\"\u001b[39;00m\n\u001b[1;32m     12\u001b[0m pk \u001b[38;5;241m=\u001b[39m eth_keys\u001b[38;5;241m.\u001b[39mPrivateKey(\u001b[38;5;28mbytes\u001b[39m\u001b[38;5;241m.\u001b[39mfromhex(private_key))\n\u001b[0;32m---> 13\u001b[0m \u001b[38;5;28;01mreturn\u001b[39;00m \u001b[38;5;28mstr\u001b[39m(\u001b[43mpk\u001b[49m\u001b[38;5;241;43m.\u001b[39;49m\u001b[43msign_msg\u001b[49m\u001b[43m(\u001b[49m\u001b[43mmessage\u001b[49m\u001b[38;5;241;43m.\u001b[39;49m\u001b[43mencode\u001b[49m\u001b[43m(\u001b[49m\u001b[43m)\u001b[49m\u001b[43m)\u001b[49m)\n",
      "File \u001b[0;32m~/workspace/address-linking-spike/.venv/lib/python3.12/site-packages/eth_keys/datatypes.py:254\u001b[0m, in \u001b[0;36mPrivateKey.sign_msg\u001b[0;34m(self, message)\u001b[0m\n\u001b[1;32m    253\u001b[0m \u001b[38;5;28;01mdef\u001b[39;00m \u001b[38;5;21msign_msg\u001b[39m(\u001b[38;5;28mself\u001b[39m, message: \u001b[38;5;28mbytes\u001b[39m) \u001b[38;5;241m-\u001b[39m\u001b[38;5;241m>\u001b[39m \u001b[38;5;124m\"\u001b[39m\u001b[38;5;124mSignature\u001b[39m\u001b[38;5;124m\"\u001b[39m:\n\u001b[0;32m--> 254\u001b[0m     message_hash \u001b[38;5;241m=\u001b[39m \u001b[43mkeccak\u001b[49m\u001b[43m(\u001b[49m\u001b[43mmessage\u001b[49m\u001b[43m)\u001b[49m\n\u001b[1;32m    255\u001b[0m     \u001b[38;5;28;01mreturn\u001b[39;00m \u001b[38;5;28mself\u001b[39m\u001b[38;5;241m.\u001b[39msign_msg_hash(message_hash)\n",
      "File \u001b[0;32m~/workspace/address-linking-spike/.venv/lib/python3.12/site-packages/eth_utils/crypto.py:20\u001b[0m, in \u001b[0;36mkeccak\u001b[0;34m(primitive, hexstr, text)\u001b[0m\n\u001b[1;32m     15\u001b[0m \u001b[38;5;28;01mdef\u001b[39;00m \u001b[38;5;21mkeccak\u001b[39m(\n\u001b[1;32m     16\u001b[0m     primitive: Optional[Union[\u001b[38;5;28mbytes\u001b[39m, \u001b[38;5;28mint\u001b[39m, \u001b[38;5;28mbool\u001b[39m]] \u001b[38;5;241m=\u001b[39m \u001b[38;5;28;01mNone\u001b[39;00m,\n\u001b[1;32m     17\u001b[0m     hexstr: Optional[\u001b[38;5;28mstr\u001b[39m] \u001b[38;5;241m=\u001b[39m \u001b[38;5;28;01mNone\u001b[39;00m,\n\u001b[1;32m     18\u001b[0m     text: Optional[\u001b[38;5;28mstr\u001b[39m] \u001b[38;5;241m=\u001b[39m \u001b[38;5;28;01mNone\u001b[39;00m,\n\u001b[1;32m     19\u001b[0m ) \u001b[38;5;241m-\u001b[39m\u001b[38;5;241m>\u001b[39m \u001b[38;5;28mbytes\u001b[39m:\n\u001b[0;32m---> 20\u001b[0m     \u001b[38;5;28;01mreturn\u001b[39;00m \u001b[38;5;28mbytes\u001b[39m(\u001b[43mkeccak_256\u001b[49m\u001b[43m(\u001b[49m\u001b[43mto_bytes\u001b[49m\u001b[43m(\u001b[49m\u001b[43mprimitive\u001b[49m\u001b[43m,\u001b[49m\u001b[43m \u001b[49m\u001b[43mhexstr\u001b[49m\u001b[43m,\u001b[49m\u001b[43m \u001b[49m\u001b[43mtext\u001b[49m\u001b[43m)\u001b[49m\u001b[43m)\u001b[49m)\n",
      "File \u001b[0;32m~/workspace/address-linking-spike/.venv/lib/python3.12/site-packages/eth_hash/main.py:50\u001b[0m, in \u001b[0;36mKeccak256.__call__\u001b[0;34m(self, preimage)\u001b[0m\n\u001b[1;32m     44\u001b[0m \u001b[38;5;28;01mif\u001b[39;00m \u001b[38;5;129;01mnot\u001b[39;00m \u001b[38;5;28misinstance\u001b[39m(preimage, (\u001b[38;5;28mbytearray\u001b[39m, \u001b[38;5;28mbytes\u001b[39m)):\n\u001b[1;32m     45\u001b[0m     \u001b[38;5;28;01mraise\u001b[39;00m \u001b[38;5;167;01mTypeError\u001b[39;00m(\n\u001b[1;32m     46\u001b[0m         \u001b[38;5;124m\"\u001b[39m\u001b[38;5;124mCan only compute the hash of `bytes` or `bytearray` values, \u001b[39m\u001b[38;5;124m\"\u001b[39m\n\u001b[1;32m     47\u001b[0m         \u001b[38;5;124mf\u001b[39m\u001b[38;5;124m\"\u001b[39m\u001b[38;5;124mnot \u001b[39m\u001b[38;5;132;01m{\u001b[39;00m\u001b[38;5;28mrepr\u001b[39m(preimage)\u001b[38;5;132;01m}\u001b[39;00m\u001b[38;5;124m\"\u001b[39m\n\u001b[1;32m     48\u001b[0m     )\n\u001b[0;32m---> 50\u001b[0m \u001b[38;5;28;01mreturn\u001b[39;00m \u001b[38;5;28;43mself\u001b[39;49m\u001b[38;5;241;43m.\u001b[39;49m\u001b[43mhasher\u001b[49m\u001b[43m(\u001b[49m\u001b[43mpreimage\u001b[49m\u001b[43m)\u001b[49m\n",
      "File \u001b[0;32m~/workspace/address-linking-spike/.venv/lib/python3.12/site-packages/eth_hash/main.py:27\u001b[0m, in \u001b[0;36mKeccak256._hasher_first_run\u001b[0;34m(self, in_data)\u001b[0m\n\u001b[1;32m     18\u001b[0m \u001b[38;5;250m\u001b[39m\u001b[38;5;124;03m\"\"\"\u001b[39;00m\n\u001b[1;32m     19\u001b[0m \u001b[38;5;124;03mValidate, on first-run, that the hasher backend is valid.\u001b[39;00m\n\u001b[1;32m     20\u001b[0m \n\u001b[0;32m   (...)\u001b[0m\n\u001b[1;32m     23\u001b[0m \u001b[38;5;124;03mthis first one.\u001b[39;00m\n\u001b[1;32m     24\u001b[0m \u001b[38;5;124;03m\"\"\"\u001b[39;00m\n\u001b[1;32m     25\u001b[0m \u001b[38;5;66;03m# Execute directly before saving method,\u001b[39;00m\n\u001b[1;32m     26\u001b[0m \u001b[38;5;66;03m# to let any side-effects settle (see AutoBackend)\u001b[39;00m\n\u001b[0;32m---> 27\u001b[0m result \u001b[38;5;241m=\u001b[39m \u001b[38;5;28;43mself\u001b[39;49m\u001b[38;5;241;43m.\u001b[39;49m\u001b[43m_backend\u001b[49m\u001b[38;5;241;43m.\u001b[39;49m\u001b[43mkeccak256\u001b[49m\u001b[43m(\u001b[49m\u001b[43min_data\u001b[49m\u001b[43m)\u001b[49m\n\u001b[1;32m     28\u001b[0m new_hasher \u001b[38;5;241m=\u001b[39m \u001b[38;5;28mself\u001b[39m\u001b[38;5;241m.\u001b[39m_backend\u001b[38;5;241m.\u001b[39mkeccak256\n\u001b[1;32m     29\u001b[0m \u001b[38;5;28;01massert\u001b[39;00m (\n\u001b[1;32m     30\u001b[0m     new_hasher(\u001b[38;5;124mb\u001b[39m\u001b[38;5;124m\"\u001b[39m\u001b[38;5;124m\"\u001b[39m)\n\u001b[1;32m     31\u001b[0m     \u001b[38;5;241m==\u001b[39m \u001b[38;5;124mb\u001b[39m\u001b[38;5;124m\"\u001b[39m\u001b[38;5;130;01m\\xc5\u001b[39;00m\u001b[38;5;130;01m\\xd2\u001b[39;00m\u001b[38;5;124mF\u001b[39m\u001b[38;5;130;01m\\x01\u001b[39;00m\u001b[38;5;130;01m\\x86\u001b[39;00m\u001b[38;5;130;01m\\xf7\u001b[39;00m\u001b[38;5;124m#<\u001b[39m\u001b[38;5;130;01m\\x92\u001b[39;00m\u001b[38;5;124m~}\u001b[39m\u001b[38;5;130;01m\\xb2\u001b[39;00m\u001b[38;5;130;01m\\xdc\u001b[39;00m\u001b[38;5;130;01m\\xc7\u001b[39;00m\u001b[38;5;130;01m\\x03\u001b[39;00m\u001b[38;5;130;01m\\xc0\u001b[39;00m\u001b[38;5;130;01m\\xe5\u001b[39;00m\u001b[38;5;130;01m\\x00\u001b[39;00m\u001b[38;5;130;01m\\xb6\u001b[39;00m\u001b[38;5;124mS\u001b[39m\u001b[38;5;130;01m\\xca\u001b[39;00m\u001b[38;5;130;01m\\x82\u001b[39;00m\u001b[38;5;124m'\u001b[39m\u001b[38;5;124m;\u001b[39m\u001b[38;5;130;01m\\x7b\u001b[39;00m\u001b[38;5;130;01m\\xfa\u001b[39;00m\u001b[38;5;130;01m\\xd8\u001b[39;00m\u001b[38;5;130;01m\\x04\u001b[39;00m\u001b[38;5;124m]\u001b[39m\u001b[38;5;130;01m\\x85\u001b[39;00m\u001b[38;5;130;01m\\xa4\u001b[39;00m\u001b[38;5;124mp\u001b[39m\u001b[38;5;124m\"\u001b[39m  \u001b[38;5;66;03m# noqa: E501\u001b[39;00m\n\u001b[1;32m     32\u001b[0m )\n",
      "File \u001b[0;32m~/workspace/address-linking-spike/.venv/lib/python3.12/site-packages/eth_hash/backends/auto.py:23\u001b[0m, in \u001b[0;36mAutoBackend.keccak256\u001b[0;34m(self, in_data)\u001b[0m\n\u001b[1;32m     22\u001b[0m \u001b[38;5;28;01mdef\u001b[39;00m \u001b[38;5;21mkeccak256\u001b[39m(\u001b[38;5;28mself\u001b[39m, in_data: Union[\u001b[38;5;28mbytearray\u001b[39m, \u001b[38;5;28mbytes\u001b[39m]) \u001b[38;5;241m-\u001b[39m\u001b[38;5;241m>\u001b[39m \u001b[38;5;28mbytes\u001b[39m:\n\u001b[0;32m---> 23\u001b[0m     \u001b[38;5;28;43mself\u001b[39;49m\u001b[38;5;241;43m.\u001b[39;49m\u001b[43m_initialize\u001b[49m\u001b[43m(\u001b[49m\u001b[43m)\u001b[49m\n\u001b[1;32m     24\u001b[0m     \u001b[38;5;28;01mreturn\u001b[39;00m \u001b[38;5;28mself\u001b[39m\u001b[38;5;241m.\u001b[39mkeccak256(in_data)\n",
      "File \u001b[0;32m~/workspace/address-linking-spike/.venv/lib/python3.12/site-packages/eth_hash/backends/auto.py:16\u001b[0m, in \u001b[0;36mAutoBackend._initialize\u001b[0;34m(self)\u001b[0m\n\u001b[1;32m     15\u001b[0m \u001b[38;5;28;01mdef\u001b[39;00m \u001b[38;5;21m_initialize\u001b[39m(\u001b[38;5;28mself\u001b[39m) \u001b[38;5;241m-\u001b[39m\u001b[38;5;241m>\u001b[39m \u001b[38;5;28;01mNone\u001b[39;00m:\n\u001b[0;32m---> 16\u001b[0m     backend \u001b[38;5;241m=\u001b[39m \u001b[43mauto_choose_backend\u001b[49m\u001b[43m(\u001b[49m\u001b[43m)\u001b[49m\n\u001b[1;32m     17\u001b[0m     \u001b[38;5;66;03m# Use setattr to circumvent mypy's confusion, see:\u001b[39;00m\n\u001b[1;32m     18\u001b[0m     \u001b[38;5;66;03m# https://github.com/python/mypy/issues/2427\u001b[39;00m\n\u001b[1;32m     19\u001b[0m     \u001b[38;5;28msetattr\u001b[39m(\u001b[38;5;28mself\u001b[39m, \u001b[38;5;124m\"\u001b[39m\u001b[38;5;124mkeccak256\u001b[39m\u001b[38;5;124m\"\u001b[39m, backend\u001b[38;5;241m.\u001b[39mkeccak256)  \u001b[38;5;66;03m# noqa: B010\u001b[39;00m\n",
      "File \u001b[0;32m~/workspace/address-linking-spike/.venv/lib/python3.12/site-packages/eth_hash/utils.py:19\u001b[0m, in \u001b[0;36mauto_choose_backend\u001b[0;34m()\u001b[0m\n\u001b[1;32m     17\u001b[0m     \u001b[38;5;28;01mreturn\u001b[39;00m load_environment_backend(env_backend)\n\u001b[1;32m     18\u001b[0m \u001b[38;5;28;01melse\u001b[39;00m:\n\u001b[0;32m---> 19\u001b[0m     \u001b[38;5;28;01mreturn\u001b[39;00m \u001b[43mchoose_available_backend\u001b[49m\u001b[43m(\u001b[49m\u001b[43m)\u001b[49m\n",
      "File \u001b[0;32m~/workspace/address-linking-spike/.venv/lib/python3.12/site-packages/eth_hash/utils.py:71\u001b[0m, in \u001b[0;36mchoose_available_backend\u001b[0;34m()\u001b[0m\n\u001b[1;32m     67\u001b[0m     \u001b[38;5;28;01mexcept\u001b[39;00m \u001b[38;5;167;01mImportError\u001b[39;00m:\n\u001b[1;32m     68\u001b[0m         logging\u001b[38;5;241m.\u001b[39mgetLogger(\u001b[38;5;124m\"\u001b[39m\u001b[38;5;124meth_hash\u001b[39m\u001b[38;5;124m\"\u001b[39m)\u001b[38;5;241m.\u001b[39mdebug(\n\u001b[1;32m     69\u001b[0m             \u001b[38;5;124mf\u001b[39m\u001b[38;5;124m\"\u001b[39m\u001b[38;5;124mFailed to import \u001b[39m\u001b[38;5;132;01m{\u001b[39;00mbackend\u001b[38;5;132;01m}\u001b[39;00m\u001b[38;5;124m\"\u001b[39m, exc_info\u001b[38;5;241m=\u001b[39m\u001b[38;5;28;01mTrue\u001b[39;00m\n\u001b[1;32m     70\u001b[0m         )\n\u001b[0;32m---> 71\u001b[0m \u001b[38;5;28;01mraise\u001b[39;00m \u001b[38;5;167;01mImportError\u001b[39;00m(\n\u001b[1;32m     72\u001b[0m     \u001b[38;5;124mf\u001b[39m\u001b[38;5;124m\"\u001b[39m\u001b[38;5;124mNone of these hashing backends are installed: \u001b[39m\u001b[38;5;132;01m{\u001b[39;00mSUPPORTED_BACKENDS\u001b[38;5;132;01m}\u001b[39;00m\u001b[38;5;124m.\u001b[39m\u001b[38;5;130;01m\\n\u001b[39;00m\u001b[38;5;124m\"\u001b[39m\n\u001b[1;32m     73\u001b[0m     \u001b[38;5;124mf\u001b[39m\u001b[38;5;124m'\u001b[39m\u001b[38;5;124mInstall with `python -m pip install \u001b[39m\u001b[38;5;124m\"\u001b[39m\u001b[38;5;124meth-hash[\u001b[39m\u001b[38;5;132;01m{\u001b[39;00mSUPPORTED_BACKENDS[\u001b[38;5;241m0\u001b[39m]\u001b[38;5;132;01m}\u001b[39;00m\u001b[38;5;124m]\u001b[39m\u001b[38;5;124m\"\u001b[39m\u001b[38;5;124m`.\u001b[39m\u001b[38;5;124m'\u001b[39m\n\u001b[1;32m     74\u001b[0m )\n",
      "\u001b[0;31mImportError\u001b[0m: None of these hashing backends are installed: ['pycryptodome', 'pysha3'].\nInstall with `python -m pip install \"eth-hash[pycryptodome]\"`."
     ]
    }
   ],
   "source": [
    "ethereum_client = EthereumVerifier()\n",
    "\n",
    "signature_from_metamask = \"90ec75b7ec3fa034423c07d507242d1a719a4c97ea067ce8a093f001811c18396855d888ae3108eb0e23d3f186674463965c4a01d352db5492ecdfa9233980da1c\"\n",
    "sig_b64 = sign_ethereum(ethereum_private_key, message_amino).replace(\"0x\", \"\")\n",
    "\n",
    "verification = ethereum_client.verify_signature(ethereum_public_key, message_amino, sig_b64)\n",
    "address_from_pubkey = ethereum_client.generate_address(ethereum_public_key)\n",
    "\n",
    "print(\"Signature:\", sig_b64)\n",
    "print(\"Verification:\", verification)\n",
    "print(\"Address Generated:\", address_from_pubkey)\n",
    "print(\"Address Matched:\", address_from_pubkey == ethereum_address)"
   ]
  },
  {
   "cell_type": "markdown",
   "id": "4f082180",
   "metadata": {},
   "source": [
    "### Verifying from Keplr"
   ]
  },
  {
   "cell_type": "code",
   "execution_count": null,
   "id": "a4b36c07",
   "metadata": {},
   "outputs": [],
   "source": [
    "signature_from_keplr = \"MEQCIBQR8ZIeFP2+/Xag924ASRNDRmrPf5QMAn8rd9dH5uFHAiARJBZGUOedjgvdympaoW1UC2dZ5mlngyH3uYRUoiQXIQ==\"\n",
    "\n",
    "sig_b64 = base64.b64decode(signature_from_keplr).hex()\n",
    "verification = cosmos_client.verify_signature(cosmos_public_key, message_amino, sig_b64)\n",
    "address_from_pubkey = cosmos_client.generate_address(cosmos_public_key)\n",
    "\n",
    "print(\"Signature:\", sig_b64)\n",
    "print(\"Verification:\", verification)"
   ]
  },
  {
   "cell_type": "code",
   "execution_count": null,
   "id": "5b733131",
   "metadata": {},
   "outputs": [],
   "source": []
  }
 ],
 "metadata": {
  "kernelspec": {
   "display_name": "Python 3 (ipykernel)",
   "language": "python",
   "name": "python3"
  },
  "language_info": {
   "codemirror_mode": {
    "name": "ipython",
    "version": 3
   },
   "file_extension": ".py",
   "mimetype": "text/x-python",
   "name": "python",
   "nbconvert_exporter": "python",
   "pygments_lexer": "ipython3",
   "version": "3.12.3"
  }
 },
 "nbformat": 4,
 "nbformat_minor": 5
}
